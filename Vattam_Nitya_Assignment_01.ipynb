{
  "cells": [
    {
      "cell_type": "markdown",
      "metadata": {
        "id": "view-in-github",
        "colab_type": "text"
      },
      "source": [
        "<a href=\"https://colab.research.google.com/github/NityaVattam2002/Nitya_INFO5731_Fall2024/blob/main/Vattam_Nitya_Assignment_01.ipynb\" target=\"_parent\"><img src=\"https://colab.research.google.com/assets/colab-badge.svg\" alt=\"Open In Colab\"/></a>"
      ]
    },
    {
      "cell_type": "markdown",
      "metadata": {
        "id": "Ryk8D1Q4Wsrp"
      },
      "source": [
        "# **INFO5731 Assignment One**"
      ]
    },
    {
      "cell_type": "markdown",
      "metadata": {
        "id": "qcP6re2g5A5r"
      },
      "source": [
        "This assignment includes range of programming tasks and data analysis exercises, aiming to enhance your Python skills and proficiency in string manipulation, numerical computations, and data science. Follow the instructions carefully and design well-structured Python programs to address each question.\n",
        "\n",
        "Late Submission will have a penalty of 10% reduction for each day after the deadline."
      ]
    },
    {
      "cell_type": "markdown",
      "metadata": {
        "id": "JkzR8cFAyGik"
      },
      "source": [
        "# Question 1 (10 points).\n",
        "\n",
        "The formula that describes the volume V of a hemisphere with radius r is the following:\n",
        "\n",
        "$ V=\\frac{2}{3}\\ast\\ \\pi\\ast\\ r^3 $\n",
        "\n",
        "Write a program to calculate the value of V when r is in the range of even numbers from 1-20. Output the result in the following format:\n",
        "\n",
        "\tr\tV\n",
        "\t2\t…\n",
        "\t4\t…\n",
        "\t6\t…\n",
        "\t.\n",
        "\t.\n",
        "\t.\n",
        "\t20\t…\n"
      ]
    },
    {
      "cell_type": "code",
      "execution_count": 1,
      "metadata": {
        "id": "jDyTKYs-yGit",
        "colab": {
          "base_uri": "https://localhost:8080/"
        },
        "outputId": "65fc0354-8857-4dbc-d4d6-898a14de054e"
      },
      "outputs": [
        {
          "output_type": "stream",
          "name": "stdout",
          "text": [
            "r   v\n",
            "2 16.76\n",
            "4 134.04\n",
            "6 452.39\n",
            "8 1072.33\n",
            "10 2094.40\n",
            "12 3619.11\n",
            "14 5747.02\n",
            "16 8578.64\n",
            "18 12214.51\n",
            "20 16755.16\n"
          ]
        }
      ],
      "source": [
        "# Your code here\n",
        "import math\n",
        "print (\"r   v\")\n",
        "for r in range(2,21,2):\n",
        "    print(f\"{r} {(2/3)*math.pi*(r**3):.2f}\")\n",
        "\n"
      ]
    },
    {
      "cell_type": "markdown",
      "metadata": {
        "id": "90_NR8c5XGWc"
      },
      "source": [
        "# Question 2 (20 points)\n",
        "\n",
        "(a) Write a Python program to generate a sequence of 12 random numbers falling within the range of 50 to 150.\n",
        "\n",
        "(b) Arrange the generated numbers in ascending order. Display the sorted list.\n",
        "\n",
        "(c) Extend the program to arrange the numbers in descending order as well. Present the sorted list accordingly.\n",
        "\n",
        "(d) Compute and output the average of the entire group of generated numbers.\n",
        "\n",
        "(e) Enhance the program to calculate and display the average of the first 6 numbers from both the ascending and descending sorted lists."
      ]
    },
    {
      "cell_type": "code",
      "execution_count": 18,
      "metadata": {
        "id": "5QX6bJjGWXY9",
        "colab": {
          "base_uri": "https://localhost:8080/"
        },
        "outputId": "b7837f50-0e61-4071-e34b-f70d3dfd222b"
      },
      "outputs": [
        {
          "output_type": "stream",
          "name": "stdout",
          "text": [
            "Generated random numbers:[135, 123, 105, 111, 138, 59, 57, 111, 107, 146, 95, 108]\n",
            "Generated random numbers in ascending order:[57, 59, 95, 105, 107, 108, 111, 111, 123, 135, 138, 146]\n",
            "Generated random numbers in descending order:[146, 138, 135, 123, 111, 111, 108, 107, 105, 95, 59, 57]\n",
            "Average of all numbers:107.91666666666667\n",
            "Average of first 6 numbers in ascending order:68.5\n",
            "Average of the first 6 numbers in descending order:121.5\n"
          ]
        }
      ],
      "source": [
        "# Write code for each of the sub parts with proper comments.\n",
        "\n",
        "import random\n",
        "#generate a sequence of 12 random numbers within the range of 50 to 150\n",
        "a=[random.randint(50,150) for _ in range(12)]\n",
        "print(f\"Generated random numbers:{a}\")\n",
        "\n",
        "#arrange the generated numbers in ascending order and display the sorted list\n",
        "b=sorted(a)\n",
        "print(f\"Generated random numbers in ascending order:{b}\")\n",
        "\n",
        "#arrange the numbers in descending order and display the sorted list\n",
        "c=sorted(a,reverse=True)\n",
        "print(f\"Generated random numbers in descending order:{c}\")\n",
        "\n",
        "#compute and output the average of the entire group of generated numbers\n",
        "d=sum(a)/len(a)\n",
        "print(f\"Average of all numbers:{d}\")\n",
        "\n",
        "#calculate and display the avaerage of the first 6 numbers from both sorted lists\n",
        "#ascending sorted list\n",
        "e=sum(b[:6])/6\n",
        "print(f\"Average of first 6 numbers in ascending order:{avg_first_6_asc:}\")\n",
        "\n",
        "#descending sorted list\n",
        "e=sum(c[:6])/6\n",
        "print(f\"Average of the first 6 numbers in descending order:{avg_first_6_dsc:}\")"
      ]
    },
    {
      "cell_type": "markdown",
      "metadata": {
        "id": "1F_PZdH9Sh49"
      },
      "source": [
        "# Question 3 (20 points).\n",
        "\n",
        "Create a Python program that encompasses various string manipulation task:\n",
        "\n",
        "(a) Prompt the user to input two sentences.\n",
        "\n",
        "(b) Transform each sentence into a list, where each element corresponds to a word in the sentence. For example, if the sentences are \"Hello, how are you doing today?\" and \"This is an example sentence for the program!\"\n",
        "\n",
        "The program should output:\n",
        "['Hello', ',', 'how', 'are', 'you', 'doing', 'today', '?', 'This', 'is', 'an', 'example', 'sentence', 'for', 'the', 'program', '!']\n",
        "\n",
        "(c) Compare the two sentences. Print out a list of words that occur in both sentences.\n",
        "\n",
        "(d) Remove any punctuation from the sentence and print the sanitized sentences. It should remove at least the following characters, but it can remove more: period(“.”), comma (“,”), semicolon (“;”), and colon (“:”).\n",
        "\n",
        "(e) Count the number of vowels in each of the sentences. Print out each vowel and the occurrences  in the each of the two sentences separately, such as:\n",
        "\n",
        "Sentence1: a:2, e:2, i:0, etc.\n",
        "Sentence2: a:1, e:2, i:2, etc.\n",
        "\n",
        "Design a well-structured Python program to execute these tasks efficiently."
      ]
    },
    {
      "cell_type": "code",
      "execution_count": 49,
      "metadata": {
        "id": "Y0oOSlsOS0cq",
        "colab": {
          "base_uri": "https://localhost:8080/"
        },
        "outputId": "14484df7-e6c7-4252-ec78-34ddbf7620b2"
      },
      "outputs": [
        {
          "output_type": "stream",
          "name": "stdout",
          "text": [
            "Enter the first sentence: the sky is blue\n",
            "Enter the second sentence: moon is high\n",
            "List of words in the first sentence: ['the', 'sky', 'is', 'blue']\n",
            "List of words in the second sentence: ['moon', 'is', 'high']\n",
            "Words that occur in both sentences: ['is']\n",
            "Sanitized first sentence: the sky is blue\n",
            "Sanitized second sentence: moon is high\n",
            "Vowel counts in the first sentence:\n",
            "a: 0, e: 2, i: 1, o: 0, u: 1, \n",
            "Vowel counts in the second sentence:\n",
            "a: 0, e: 0, i: 2, o: 2, u: 0, \n"
          ]
        }
      ],
      "source": [
        "from sre_constants import CATEGORY_UNI_NOT_SPACE\n",
        "# Your code here\n",
        "import random\n",
        "\n",
        "def removepunct(s):\n",
        "  #create a translation table that maps punctuation to maps punctuation to None\n",
        "  trans = str.maketrans(\",\",string.punctuation)\n",
        "  return s.translate(trans)\n",
        "\n",
        "  def vc(s):\n",
        "    v='aeiou'\n",
        "    c={v: s.lower().count(v)for v in vowels}\n",
        "    return counts\n",
        "\n",
        "  def spilt_s(s):\n",
        "    #split the sentence into words,including punctuation\n",
        "    #replace punctuation with spacec to split on both words and punctuation\n",
        "    trans=str.maketrans(\",\",string.whitespace)\n",
        "    w=[]\n",
        "    s=0\n",
        "    for i,char in enumerate(s):\n",
        "      if char in string.punctuation+'':\n",
        "       if start < i:\n",
        "        words.append(s[start:i])\n",
        "      if char in string.punctuation:\n",
        "        words.append(char)\n",
        "        start=i+1\n",
        "      if start <len(s):\n",
        "        words.append(s[start:])\n",
        "        return words\n",
        "\n",
        "      def main():\n",
        "        #prompt the user to input two sentences\n",
        "        s1=input(\"Enter the first sentence\")\n",
        "        s2=input(\"Enter the second sentence\")\n",
        "\n",
        "        #transform each sentence into a list of words\n",
        "        w1=split_s(s1)\n",
        "        w2=split_s(s2)\n",
        "\n",
        "        print(f\"List of words in the first sentence:{w1}\")\n",
        "        print(f\"list of words in the second sentence:{w2}\")\n",
        "\n",
        "        #find words that occur in both sentences\n",
        "        commonwords= set(w1) & set(w2)\n",
        "        print(f\"Words that occur in both sentences:{list(commonwords)}\")\n",
        "\n",
        "        #remove any punctuation from the sentences\n",
        "        sanitized_s1=removepunct(s1)\n",
        "        sanitized_s2-removepunct(s2)\n",
        "        print(f\"Sanitized first sentence:{sanitized_s1}\")\n",
        "        print(f\"Sanitized second sentence:{sanitized_s2}\")\n",
        "\n",
        "        #count the number of vowles in each sentence\n",
        "        vc1=vc(removepunct(s1))\n",
        "        vc2=vc(removepunct(s2))\n",
        "        print(\"Vowel counts in the first sentence:\")\n",
        "        for vowel,count in vc1.items():\n",
        "          print(f\"{vowel}:{count}\",end=\",\")\n",
        "          print()\n",
        "\n",
        "          print(\"Vowel count in the second sentence:\")\n",
        "          for vowel,count in vc2.items():\n",
        "            print(f\"{vowel}:{count}\",end=\",\")\n",
        "            print()\n",
        "if __name__ == \"__main__\":\n",
        "    main()\n",
        "\n"
      ]
    },
    {
      "cell_type": "markdown",
      "metadata": {
        "id": "OP4-5qxAtInv"
      },
      "source": [
        "# Question 4 (20 Points)"
      ]
    },
    {
      "cell_type": "markdown",
      "metadata": {
        "id": "uzN4_hDptK9U"
      },
      "source": [
        "Design and implement a simple command-line calculator program. The program should handle both integers and floating-point numbers.\n",
        "\n",
        "(a) Write program that takes a mathematical expression as input and evaluates it. The program should support addition, subtraction, multiplication, and division.\n",
        "\n",
        "(b) Extend the calculator to handle parentheses in mathematical expressions. Implement the necessary logic to evaluate expressions with nested parentheses.\n",
        "\n",
        "(c) Enhance your calculator to include additional mathematical operations such as exponentiation, square root, and modulus.\n",
        "\n",
        "(d) Implement error handling in the calculator program. Handle cases such as division by zero and invalid input expressions. Provide meaningful error messages.\n",
        "\n",
        "(e) Implement a command to exit the calculator."
      ]
    },
    {
      "cell_type": "code",
      "execution_count": 123,
      "metadata": {
        "id": "8nQnVxjJuYtu",
        "colab": {
          "base_uri": "https://localhost:8080/"
        },
        "outputId": "9b7b4004-763d-4c2c-d1e5-dc94174cded2"
      },
      "outputs": [
        {
          "output_type": "stream",
          "name": "stdout",
          "text": [
            "Simple Command Line Calculator\n",
            "Use the mentioned operations +,-,*,/,**,sqrt,%\n",
            "paranthesis can be used for grouping\n",
            "Type 'Exit' to close calculator\n",
            "Enter any expression required:2+2\n",
            "4\n",
            "Enter any expression required:5-8\n",
            "-3\n",
            "Enter any expression required:exit\n",
            "Closing the Calculator:\n"
          ]
        }
      ],
      "source": [
        "# Your code here\n",
        "\n",
        "import math\n",
        "\n",
        "def eval_exp(exp):\n",
        "  try:\n",
        "    exp = exp.replace(\"sqrt\",\"math.sqrt\")\n",
        "    result = eval(exp, {\"__builtins__\": None}, {\"math\": math})\n",
        "    return result\n",
        "  except ZeroDivisionError:\n",
        "    return \"Divison by zero is not possible\"\n",
        "  except Exception as E:\n",
        "   return E\n",
        "\n",
        "def calculator():\n",
        "   print(\"Simple Command Line Calculator\")\n",
        "   print(\"Use the mentioned operations +,-,*,/,**,sqrt,%\")\n",
        "   print(\"paranthesis can be used for grouping\")\n",
        "   print(\"Type 'Exit' to close calculator\")\n",
        "\n",
        "   while True:\n",
        "    exp = input(\"Enter any expression required:\").strip()\n",
        "    if exp.lower() == \"exit\":\n",
        "      print(\"Closing the Calculator:\")\n",
        "      break\n",
        "    result = eval_exp(exp)\n",
        "    print(result)\n",
        "\n",
        "\n",
        "calculator()\n"
      ]
    },
    {
      "cell_type": "code",
      "source": [
        "from google.colab import drive\n",
        "drive.mount('/content/drive')"
      ],
      "metadata": {
        "id": "kuWASRxiGN6V"
      },
      "execution_count": null,
      "outputs": []
    },
    {
      "cell_type": "markdown",
      "metadata": {
        "id": "z3tBE7E-Xn5X"
      },
      "source": [
        "# Question 5 (30 points).\n",
        "\n",
        "In the field of Data Science, data is often formatted as a comma-delimited (CSV) file, where each line in a file corresponds to a field's value. Refer to Chapter 9 (p. 106) for more information on comma-delimited files.\n",
        "\n",
        "To answer this question, you will need to download the file [Assignment1_denton_housing.csv](https://raw.githubusercontent.com/unt-iialab/info5731-spring2022/main/assignments/Assignment1_denton_housing.csv) included with this assignment. The file contains statistics about housing in the city of Denton from 2008 to 2014. Write a program to implement the following questions.\n",
        "\n",
        "(a) (5 pts) Calculate the difference in the number of Occupied Housing Units from year to year and print it. The difference must be calculated for the consecutive years such as 2008-2009, 2009-2010 etc. Finally, print the values in the ascending order.\n",
        "\n",
        "(b) (5 pts) For all the years, calculate the percentage of housing units which are vacant an occupied. Print the results in the following format:\n",
        "\n",
        "Year Vacant Housing Units Occupied Housing Units\n",
        "\n",
        "    2008  30%   70%                          \n",
        "\t2009 ----- -----\n",
        "\t2010 ----- -----\n",
        "    2011 ----- -----\n",
        "\t2012 ----- -----\n",
        "    2013 ----- -----\n",
        "\t2014 ----- -----\n",
        "  \n",
        "  \n",
        "\n",
        "(c) (10 pts) Calculate and print the valued and years in which the highest number of housing units were vacant and occupied. Print the results in the following format:  \n",
        "\n",
        "                              Year\tValue\n",
        "\tVacant Housing Units\t  -----   -----\n",
        "\tOccupied Housing Units\t-----   -----\n",
        "\n",
        "(d) (10 pts) Calculate the harmonic mean of the total housing units and print it out. You can find the information about harmonic mean here: https://ncalculators.com/statistics/harmonic-mean-calculator.htm"
      ]
    },
    {
      "cell_type": "code",
      "execution_count": 122,
      "metadata": {
        "id": "lqGYuHBhcsRH",
        "colab": {
          "base_uri": "https://localhost:8080/"
        },
        "outputId": "30936f0d-aad9-4f05-add3-4f04005c7246"
      },
      "outputs": [
        {
          "output_type": "stream",
          "name": "stdout",
          "text": [
            "Drive already mounted at /content/drive; to attempt to forcibly remount, call drive.mount(\"/content/drive\", force_remount=True).\n",
            "Differences in Units Occupied by year to year:\n",
            "2008-2009: -795\n",
            "2010-2011: -303\n",
            "2011-2012: 1404\n",
            "2012-2013: 1565\n",
            "2013-2014: 2622\n",
            "2009-2010: 5091\n",
            "% of housing units vacant and occupied for all years\n",
            "2009 9.07111572444872% 90.92888427555128%\n",
            "2010 8.142556337081672% 91.85744366291833%\n",
            "2011 9.379522229890688% 90.6204777701093%\n",
            "2012 6.677600230491346% 93.32239976950866%\n",
            "2013 8.801787504176412% 91.19821249582358%\n",
            "2014 5.730110570363885% 94.26988942963611%\n",
            "                               year   value\n",
            "vacant housing units           2008   4483\n",
            "occupied housing units         2014   46295\n",
            "Harmonic mean of all housing units is: 44981.434095354496\n"
          ]
        }
      ],
      "source": [
        " # Your code here\n",
        " from google.colab import drive\n",
        " drive.mount('/content/drive')\n",
        "\n",
        " import pandas as pd\n",
        " csv_path = \"/content/drive/MyDrive/info 5731/Assignment1_denton_housing (1).csv\"\n",
        " df = pd.read_csv(csv_path)\n",
        "\n",
        " # Filtering rows for occupied and vacant houses\n",
        " occupied_df = df[df['title_field'] == 'Occupied Housing Units']\n",
        " vacant_df = df[df['title_field'] == 'Vacant Housing Units']\n",
        "\n",
        "# Sorting data by year\n",
        " occupied_df = occupied_df.sort_values(by=\"year\")\n",
        " vacant_df = vacant_df.sort_values(by=\"year\")\n",
        "\n",
        " # a. Calculating difference in number of occupied house units from year to year\n",
        " occupied_df[\"Difference\"] = occupied_df['value'].diff()\n",
        " # Removing rows with NaN differences\n",
        " occupied_df = occupied_df.dropna()\n",
        " # Sorting the result in Ascending order\n",
        " sorted_order = occupied_df.sort_values(by='Difference')\n",
        " # Printing the differences result\n",
        " print(\"Differences in Units Occupied by year to year:\")\n",
        " for index, row in sorted_order.iterrows():\n",
        "  print(f\"{int (row['year'])-1}-{int(row['year'])}: {int(row['Difference'])}\")\n",
        "\n",
        "# b. Calculating the percentage of housing units which are vacant and occupied for all years\n",
        " total_df = pd.merge(occupied_df[['year', 'value']], vacant_df[['year', 'value']], on='year', suffixes=('_Occupied', '_Vacant'))\n",
        " total_df ['all_units'] = total_df ['value_Occupied'] + total_df ['value_Vacant']\n",
        " total_df ['Vacant_%'] = (total_df ['value_Vacant'] / total_df ['all_units']) * 100\n",
        " total_df ['Occupied_%'] = (total_df ['value_Occupied'] / total_df ['all_units']) * 100\n",
        "\n",
        "# Printing results\n",
        " print(\"% of housing units vacant and occupied for all years\")\n",
        " for index, row in total_df.iterrows():\n",
        "    print(f\"{int(row['year'])} {row['Vacant_%']}% {row['Occupied_%']}%\")\n",
        "\n",
        "# c. Calculating and printing the valued and years in which the highest number of housing units were vacant and occupied\n",
        " Vacant_high = vacant_df.loc[vacant_df['value'].idxmax()]\n",
        " Occupied_high = occupied_df.loc[occupied_df['value'].idxmax()]\n",
        "\n",
        " print(\"                               year   value\")\n",
        " print(f\"vacant housing units           {int(Vacant_high['year'])}   {Vacant_high['value']}\")\n",
        " print(f\"occupied housing units         {int(Occupied_high['year'])}   {Occupied_high['value']}\")\n",
        "\n",
        "# d. Calculating the harmonic mean\n",
        "\n",
        " x = len(total_df)\n",
        " har_mean = x/sum(1/ all_units for all_units in total_df['all_units'] )\n",
        " print(\"Harmonic mean of all housing units is:\", har_mean)"
      ]
    },
    {
      "cell_type": "markdown",
      "metadata": {
        "id": "q8BFCvWp32cf"
      },
      "source": [
        "# Mandatory Question\n",
        "\n",
        "Provide your thoughts on the assignment. What did you find challenging, and what aspects did you enjoy? Your opinion on the provided time to complete the assignment. Share any suggestions for improvement. Your feedback will be valuable for enhancing the learning experience."
      ]
    },
    {
      "cell_type": "code",
      "execution_count": null,
      "metadata": {
        "id": "_e557s2w4BpK"
      },
      "outputs": [],
      "source": [
        "# Write your response below"
      ]
    }
  ],
  "metadata": {
    "colab": {
      "provenance": [],
      "include_colab_link": true
    },
    "kernelspec": {
      "display_name": "Python 3 (ipykernel)",
      "language": "python",
      "name": "python3"
    },
    "language_info": {
      "codemirror_mode": {
        "name": "ipython",
        "version": 3
      },
      "file_extension": ".py",
      "mimetype": "text/x-python",
      "name": "python",
      "nbconvert_exporter": "python",
      "pygments_lexer": "ipython3",
      "version": "3.9.12"
    }
  },
  "nbformat": 4,
  "nbformat_minor": 0
}